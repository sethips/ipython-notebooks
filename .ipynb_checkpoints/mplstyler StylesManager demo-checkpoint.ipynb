{
 "metadata": {
  "name": "",
  "signature": "sha256:dec7fdeec3a46262b16a93b7f957e2d9d859e857ca92464a70976dc40ec087b4"
 },
 "nbformat": 3,
 "nbformat_minor": 0,
 "worksheets": [
  {
   "cells": [
    {
     "cell_type": "code",
     "collapsed": false,
     "input": [
      "if 'a' in vars():\n",
      "    b = \"WOOO\"\n",
      "else:\n",
      "    b = \"YAY!\""
     ],
     "language": "python",
     "metadata": {},
     "outputs": [],
     "prompt_number": 3
    },
    {
     "cell_type": "code",
     "collapsed": false,
     "input": [
      "b"
     ],
     "language": "python",
     "metadata": {},
     "outputs": [
      {
       "metadata": {},
       "output_type": "pyout",
       "prompt_number": 4,
       "text": [
        "'YAY!'"
       ]
      }
     ],
     "prompt_number": 4
    },
    {
     "cell_type": "code",
     "collapsed": false,
     "input": [
      "from mplstyler import StylesManager\n",
      "\n",
      "styles = StylesManager()"
     ],
     "language": "python",
     "metadata": {},
     "outputs": [],
     "prompt_number": 21
    },
    {
     "cell_type": "code",
     "collapsed": false,
     "input": [
      "from pylab import *"
     ],
     "language": "python",
     "metadata": {},
     "outputs": [],
     "prompt_number": 22
    },
    {
     "cell_type": "code",
     "collapsed": false,
     "input": [
      "x = linspace(0, 5, 10)\n",
      "y1 = x ** 2\n",
      "y2 = x ** 3"
     ],
     "language": "python",
     "metadata": {},
     "outputs": [],
     "prompt_number": 23
    },
    {
     "cell_type": "code",
     "collapsed": false,
     "input": [
      "figure()\n",
      "\n",
      "s = styles.get_style_for_class('Series 1')\n",
      "plot(x, y1, **s.kwargs)\n",
      "\n",
      "s = styles.get_style_for_class('Series 2')\n",
      "plot(x, y2, **s.kwargs)\n",
      "\n",
      "show()"
     ],
     "language": "python",
     "metadata": {},
     "outputs": [
      {
       "metadata": {},
       "output_type": "display_data",
       "png": "[encoded data removed]",
       "text": [
        "<matplotlib.figure.Figure at 0x10bc085d0>"
       ]
      }
     ],
     "prompt_number": 24
    },
    {
     "cell_type": "code",
     "collapsed": false,
     "input": [
      "figure()\n",
      "from collections import OrderedDict\n",
      "\n",
      "l = OrderedDict()\n",
      "s = styles.get_style_for_class('Series 1')\n",
      "l['Series 1'] = bar(x, y1, **s.bar_kwargs)\n",
      "\n",
      "s = styles.get_style_for_class('Series 3')\n",
      "l['Series 3'] = bar(max(x)+x, y2, **s.bar_kwargs)\n",
      "\n",
      "leg = legend(l.values(), l.keys(),\n",
      "   loc='best') \n",
      "leg.get_frame().set_facecolor('k')                      \n",
      "leg.get_frame().set_alpha(0.05)     \n",
      "\n",
      "\n",
      "show()"
     ],
     "language": "python",
     "metadata": {},
     "outputs": [
      {
       "metadata": {},
       "output_type": "display_data",
       "png": "[encoded data removed]",
       "text": [
        "<matplotlib.figure.Figure at 0x10bbfd050>"
       ]
      }
     ],
     "prompt_number": 26
    },
    {
     "cell_type": "code",
     "collapsed": false,
     "input": [],
     "language": "python",
     "metadata": {},
     "outputs": [],
     "prompt_number": 25
    },
    {
     "cell_type": "code",
     "collapsed": false,
     "input": [],
     "language": "python",
     "metadata": {},
     "outputs": []
    }
   ],
   "metadata": {}
  }
 ]
}