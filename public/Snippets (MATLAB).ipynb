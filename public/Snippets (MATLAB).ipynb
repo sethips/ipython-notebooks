{
 "metadata": {
  "description": "This notebook contains snippets of code that are useful when working with MATLAB in IPython Notebooks.",
  "name": "",
  "signature": "sha256:c79d56c8be56947815a8a52c57a7ff02b1c99449eaadd964f386e7a3209eed69"
 },
 "nbformat": 3,
 "nbformat_minor": 0,
 "worksheets": [
  {
   "cells": [
    {
     "cell_type": "markdown",
     "metadata": {},
     "source": [
      "# Snippets (MATLAB)\n",
      "\n",
      "This notebook contains snippets of code that are useful when working with MATLAB in IPython Notebooks."
     ]
    },
    {
     "cell_type": "markdown",
     "metadata": {},
     "source": [
      "## Displaying images from MATLAB\n",
      "\n",
      "Passing variables into cells using the `%%matlab` magic requires `h5py` which is tricky to install. If you only need to pass in simple variables (strings) you can instead pass it in using Python string formatting and  `mlab.run_code`. Unfortunately, this means we don't benefit from `pymatbridge` automatically rendering figures. The class below is just a helper Python class to make it simpler to show the resulting figures from MATLAB commands."
     ]
    },
    {
     "cell_type": "code",
     "collapsed": false,
     "input": [
      "import base64, os\n",
      "\n",
      "os.environ['http_proxy'] = ''\n",
      "\n",
      "class ImageOut(object):\n",
      "    def __init__(self, img):\n",
      "        with open(img) as f:\n",
      "            data = f.read()\n",
      "            self.image = base64.b64encode(data)\n",
      "    def _repr_png_(self):\n",
      "        return self.image"
     ],
     "language": "python",
     "metadata": {},
     "outputs": [],
     "prompt_number": 4
    },
    {
     "cell_type": "code",
     "collapsed": false,
     "input": [
      "from pymatbridge import Matlab\n",
      "mlab = Matlab()\n",
      "mlab.start()\n",
      "r = mlab.run_code('''\n",
      "plot([1,2,3]);\n",
      "''')\n",
      "ImageOut( r['content']['figures'][0] )"
     ],
     "language": "python",
     "metadata": {},
     "outputs": [
      {
       "output_type": "stream",
       "stream": "stdout",
       "text": [
        "Starting MATLAB on http://localhost:60894\n",
        " visit http://localhost:60894/exit.m to shut down same\n"
       ]
      },
      {
       "output_type": "stream",
       "stream": "stdout",
       "text": [
        "."
       ]
      },
      {
       "output_type": "stream",
       "stream": "stdout",
       "text": [
        "."
       ]
      },
      {
       "output_type": "stream",
       "stream": "stdout",
       "text": [
        "."
       ]
      },
      {
       "output_type": "stream",
       "stream": "stdout",
       "text": [
        "."
       ]
      },
      {
       "output_type": "stream",
       "stream": "stdout",
       "text": [
        "."
       ]
      },
      {
       "output_type": "stream",
       "stream": "stdout",
       "text": [
        "MATLAB started and connected!\n"
       ]
      },
      {
       "metadata": {},
       "output_type": "pyout",
       "png": "[encoded data removed]",
       "prompt_number": 6,
       "text": [
        "<__main__.ImageOut at 0x10e1ab510>"
       ]
      }
     ],
     "prompt_number": 6
    },
    {
     "cell_type": "markdown",
     "metadata": {},
     "source": [
      "## Pass widget variables into %%matlab magic\n",
      "\n",
      "If you want to use widget controls in IPython notebooks you might find yourself wanting to pass those values into matlab cells using %%matlab magic. This snippet shows how you can use a callback function together with `interact` to automatically update global vars, and then pass these into the matlab session using `-i`.\n",
      "\n",
      "*Note: you need hdf5 and h5py installed for this to work*"
     ]
    },
    {
     "cell_type": "code",
     "collapsed": false,
     "input": [
      "%load_ext pymatbridge"
     ],
     "language": "python",
     "metadata": {},
     "outputs": [
      {
       "output_type": "stream",
       "stream": "stdout",
       "text": [
        "Starting MATLAB on http://localhost:60938\n",
        " visit http://localhost:60938/exit.m to shut down same\n"
       ]
      },
      {
       "output_type": "stream",
       "stream": "stdout",
       "text": [
        "."
       ]
      },
      {
       "output_type": "stream",
       "stream": "stdout",
       "text": [
        "."
       ]
      },
      {
       "output_type": "stream",
       "stream": "stdout",
       "text": [
        "."
       ]
      },
      {
       "output_type": "stream",
       "stream": "stdout",
       "text": [
        "MATLAB started and connected!\n"
       ]
      }
     ],
     "prompt_number": 12
    },
    {
     "cell_type": "code",
     "collapsed": false,
     "input": [
      "def widget_callback(**kwargs):\n",
      "    for k,v in kwargs.items():\n",
      "        globals()[k] = v"
     ],
     "language": "python",
     "metadata": {},
     "outputs": [],
     "prompt_number": 7
    },
    {
     "cell_type": "code",
     "collapsed": false,
     "input": [
      "myvar=5"
     ],
     "language": "python",
     "metadata": {},
     "outputs": [],
     "prompt_number": 8
    },
    {
     "cell_type": "markdown",
     "metadata": {},
     "source": [
      "*Note: We define the variable first above, and pass the output var in as an default value. This means the widget wont reset if the cell is re-run, but will instead keep the current value. To reset the value just run the cell above.*"
     ]
    },
    {
     "cell_type": "code",
     "collapsed": false,
     "input": [
      "from IPython.html.widgets import interact\n",
      "from IPython.html import widgets\n",
      "\n",
      "i = interact(widget_callback,\n",
      "         myvar=widgets.IntSliderWidget(min=1, max=50, step=1, value=myvar, description=\"Reference spc:\"),\n",
      ")"
     ],
     "language": "python",
     "metadata": {},
     "outputs": [
      {
       "output_type": "stream",
       "stream": "stdout",
       "text": [
        "\r"
       ]
      },
      {
       "output_type": "stream",
       "stream": "stderr",
       "text": [
        "\r"
       ]
      }
     ],
     "prompt_number": 10
    },
    {
     "cell_type": "code",
     "collapsed": false,
     "input": [
      "%%matlab -i myvar\n",
      "myvar"
     ],
     "language": "python",
     "metadata": {},
     "outputs": [
      {
       "metadata": {},
       "output_type": "display_data",
       "text": [
        "myvar =\n",
        "                   13\n"
       ]
      }
     ],
     "prompt_number": 14
    },
    {
     "cell_type": "code",
     "collapsed": false,
     "input": [],
     "language": "python",
     "metadata": {},
     "outputs": []
    }
   ],
   "metadata": {}
  }
 ]
}