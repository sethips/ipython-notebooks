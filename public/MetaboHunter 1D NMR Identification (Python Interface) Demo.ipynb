{
 "metadata": {
  "name": "",
  "signature": "sha256:976fc71517b2325b175cdd0fb1329fd9ee28ce3fc93a434725ea594e28645a6e"
 },
 "nbformat": 3,
 "nbformat_minor": 0,
 "worksheets": [
  {
   "cells": [
    {
     "cell_type": "markdown",
     "metadata": {},
     "source": [
      "# MetaboHunter\n",
      "\n",
      "[MetaboHunter][] is a web service for automated assignment of 1D raw, bucketed or peak picked NMR spectra. \n",
      "Identification is performed in comparison to two publicly available databases ([HMDB][], [MMCD][]) of NMR standard measurements. More information about the algorithm is available in the published paper:\n",
      "\n",
      "Tulpan, D., Leger, S., Belliveau, L., Culf, A., Cuperlovic-Culf, M. (2011). [MetaboHunter: semi-automatic identification of 1H-NMR metabolite spectra in complex mixtures][]. BMC Bioinformatics 2011, 12:400\n",
      "\n",
      "I find the service useful to give a first-pass identification of metabolites from 1D spectra, which can subsequently be confirmed or combined with identification via other methods. I originally wrote a Python interface as a standalone script, then as a [Pathomx][] plugin, and have now moved the code into a reusable Python module with some extra IPython goodness. The walkthrough below demonstrates using the service with standard settings, passing a numpy array of ppms and peak heights. There is also a demo of a simple IP[y] Notebook widget set that can be used to configure the request.\n",
      "\n",
      "The module and source code is available via [PyPi][] and [Github][].\n",
      "\n",
      "  [Pathomx]: http://pathomx.org\n",
      "  [HMDB]: http://www.hmdb.ca\n",
      "  [MMCD]: http://mmcd.nmrfam.wisc.edu/\n",
      "  [MetaboHunter: semi-automatic identification of 1H-NMR metabolite spectra in complex mixtures]: http://www.biomedcentral.com/1471-2105/12/400\n",
      "  [MetaboHunter]: http://www.nrcbioinformatics.ca/metabohunter/\n",
      "\n",
      "  [PyPi]: https://pypi.python.org/pypi/MetaboHunter/\n",
      "  [Github]: https://github.com/mfitzp/metabohunter/"
     ]
    },
    {
     "cell_type": "markdown",
     "metadata": {},
     "source": [
      "## Setup\n",
      "\n",
      "The module is on [PyPi][] and has no funky dependencies. You should be able to instal the `metabohunter` from the command line:\n",
      "\n",
      "    pip install metabohunter\n",
      "    \n",
      "To use the module simply import it. The main module object provides two useful things: a `request` function that performs the request to the MetaboHunter service and a `IPyMetaboHunter` which provides nice widgets for IPython Notebooks and a synchronized config dictionary that can be passed to requests.\n",
      "\n",
      "  [PyPi]: https://pypi.python.org/"
     ]
    },
    {
     "cell_type": "code",
     "collapsed": false,
     "input": [
      "import metabohunter as mh\n",
      "import numpy as np\n",
      "import os\n",
      "os.environ['http_proxy'] = ''"
     ],
     "language": "python",
     "metadata": {},
     "outputs": [],
     "prompt_number": 25
    },
    {
     "cell_type": "markdown",
     "metadata": {},
     "source": [
      "## Input format\n",
      "\n",
      "To make a request to the MetaboHunter service you need to provide two lists (or 1D numpy arrays) of ppm values (the x axis scale on an NMR spectra) and peak heights (y axis). Here we create some dummy data using an 50-element axis of 0-10 in 0.2 increments, together with a 50-element series of peak heights generated randomly."
     ]
    },
    {
     "cell_type": "code",
     "collapsed": false,
     "input": [
      "ppms = np.arange(0,10,0.2)\n",
      "peaks = np.random.random(50)*10"
     ],
     "language": "python",
     "metadata": {},
     "outputs": [],
     "prompt_number": 26
    },
    {
     "cell_type": "code",
     "collapsed": false,
     "input": [
      "ppms"
     ],
     "language": "python",
     "metadata": {},
     "outputs": [
      {
       "metadata": {},
       "output_type": "pyout",
       "prompt_number": 27,
       "text": [
        "array([ 0. ,  0.2,  0.4,  0.6,  0.8,  1. ,  1.2,  1.4,  1.6,  1.8,  2. ,\n",
        "        2.2,  2.4,  2.6,  2.8,  3. ,  3.2,  3.4,  3.6,  3.8,  4. ,  4.2,\n",
        "        4.4,  4.6,  4.8,  5. ,  5.2,  5.4,  5.6,  5.8,  6. ,  6.2,  6.4,\n",
        "        6.6,  6.8,  7. ,  7.2,  7.4,  7.6,  7.8,  8. ,  8.2,  8.4,  8.6,\n",
        "        8.8,  9. ,  9.2,  9.4,  9.6,  9.8])"
       ]
      }
     ],
     "prompt_number": 27
    },
    {
     "cell_type": "code",
     "collapsed": false,
     "input": [
      "peaks"
     ],
     "language": "python",
     "metadata": {},
     "outputs": [
      {
       "metadata": {},
       "output_type": "pyout",
       "prompt_number": 28,
       "text": [
        "array([ 8.31680605,  6.04419835,  6.89353176,  6.00962915,  4.41208152,\n",
        "        3.2333172 ,  1.39946687,  6.4614129 ,  6.20912024,  0.06888817,\n",
        "        7.42894489,  6.7128017 ,  0.79111548,  8.85208481,  4.9710428 ,\n",
        "        4.95762437,  9.82106628,  3.3606115 ,  8.71282185,  9.6313281 ,\n",
        "        5.1396787 ,  6.90228616,  4.12455523,  3.71683751,  1.77995641,\n",
        "        1.87159547,  5.43813402,  6.26325801,  9.17281811,  2.507874  ,\n",
        "        0.64188688,  5.03782693,  6.93223808,  8.59120112,  2.95107901,\n",
        "        9.70824585,  1.30386675,  1.02667654,  2.46923911,  9.02715511,\n",
        "        2.42110673,  5.2022395 ,  8.79650171,  7.06068795,  9.45386543,\n",
        "        4.38466017,  0.22570328,  3.25368676,  0.63608104,  6.98335382])"
       ]
      }
     ],
     "prompt_number": 28
    },
    {
     "cell_type": "markdown",
     "metadata": {},
     "source": [
      "## Performing a request\n",
      "\n",
      "\n",
      "The results are returned back in a list of the same length as the input array. Mapped metabolites are represented by their [Human Metabolome Database (HMDB)][] identifier whereas unmapped peaks are represented by `None`.\n",
      "\n",
      "  [Human Metabolome Database (HMDB)]: http://hmdb.ca"
     ]
    },
    {
     "cell_type": "code",
     "collapsed": false,
     "input": [
      "hmdbs = mh.request(ppms,peaks)\n",
      "hmdbs"
     ],
     "language": "python",
     "metadata": {},
     "outputs": [
      {
       "metadata": {},
       "output_type": "pyout",
       "prompt_number": 29,
       "text": [
        "[None,\n",
        " None,\n",
        " None,\n",
        " None,\n",
        " None,\n",
        " None,\n",
        " None,\n",
        " None,\n",
        " None,\n",
        " None,\n",
        " 'HMDB00766',\n",
        " None,\n",
        " 'HMDB00210',\n",
        " 'HMDB01919',\n",
        " 'HMDB01919',\n",
        " None,\n",
        " None,\n",
        " 'HMDB00210',\n",
        " None,\n",
        " None,\n",
        " None,\n",
        " None,\n",
        " None,\n",
        " None,\n",
        " None,\n",
        " None,\n",
        " None,\n",
        " None,\n",
        " None,\n",
        " None,\n",
        " None,\n",
        " None,\n",
        " None,\n",
        " None,\n",
        " 'HMDB00763',\n",
        " 'HMDB00617',\n",
        " 'HMDB00763',\n",
        " 'HMDB00259',\n",
        " None,\n",
        " None,\n",
        " None,\n",
        " None,\n",
        " None,\n",
        " None,\n",
        " None,\n",
        " None,\n",
        " None,\n",
        " None,\n",
        " None,\n",
        " None]"
       ]
      }
     ],
     "prompt_number": 29
    },
    {
     "cell_type": "markdown",
     "metadata": {},
     "source": [
      "To throw away the None's and get the ppm values for the mapped metabolites you can do something like:"
     ]
    },
    {
     "cell_type": "code",
     "collapsed": false,
     "input": [
      "[(ppm, hmdb) for ppm, hmdb in zip(ppms, hmdbs) if hmdb is not None]"
     ],
     "language": "python",
     "metadata": {},
     "outputs": [
      {
       "metadata": {},
       "output_type": "pyout",
       "prompt_number": 30,
       "text": [
        "[(2.0, 'HMDB00766'),\n",
        " (2.4000000000000004, 'HMDB00210'),\n",
        " (2.6000000000000001, 'HMDB01919'),\n",
        " (2.8000000000000003, 'HMDB01919'),\n",
        " (3.4000000000000004, 'HMDB00210'),\n",
        " (6.8000000000000007, 'HMDB00763'),\n",
        " (7.0, 'HMDB00617'),\n",
        " (7.2000000000000002, 'HMDB00763'),\n",
        " (7.4000000000000004, 'HMDB00259')]"
       ]
      }
     ],
     "prompt_number": 30
    },
    {
     "cell_type": "markdown",
     "metadata": {},
     "source": [
      "## IPython Candy\n",
      "\n",
      "To make the metabohunter module a bit nicer to work with from within IP[y] Notebooks, the module provides a simple class for generating widgets to control settings. The class is initialised with the default settings for the request, however you can pass additional variables (any of the keyword arguments allowed for `request`)."
     ]
    },
    {
     "cell_type": "code",
     "collapsed": false,
     "input": [
      "mhi = mh.IPyMetaboHunter(confidence=0.1, tolerance=0.5)"
     ],
     "language": "python",
     "metadata": {},
     "outputs": [],
     "prompt_number": 53
    },
    {
     "cell_type": "markdown",
     "metadata": {},
     "source": [
      "Once the objet is created you can call `.display()` to render the widgets in the current cell. Any changes to the variables are stored back into the `IPyMetaboHunter` class object (here `mhi`) and available in subsequent calculations."
     ]
    },
    {
     "cell_type": "code",
     "collapsed": false,
     "input": [
      "mhi.display()"
     ],
     "language": "python",
     "metadata": {},
     "outputs": [],
     "prompt_number": 54
    },
    {
     "cell_type": "code",
     "collapsed": false,
     "input": [
      "mhi.settings"
     ],
     "language": "python",
     "metadata": {},
     "outputs": [
      {
       "metadata": {},
       "output_type": "pyout",
       "prompt_number": 55,
       "text": [
        "{'confidence': 0.1,\n",
        " 'database': 'HMDB',\n",
        " 'frequency': '600',\n",
        " 'metabotype': 'All',\n",
        " 'method': 'HighestNumberNeighbourhood',\n",
        " 'noise': 0.0,\n",
        " 'ph': 'ph7',\n",
        " 'solvent': 'water',\n",
        " 'tolerance': 0.5}"
       ]
      }
     ],
     "prompt_number": 55
    },
    {
     "cell_type": "markdown",
     "metadata": {},
     "source": [
      "The widgets manager makes the keyword arguments for the request available via a `kwargs` property. To provide these to the request function as keyword arguments we just need to unfurl it into the function call using `**`. Try adjusting the parameters above and seeing how they affect the results when re-running the request."
     ]
    },
    {
     "cell_type": "code",
     "collapsed": false,
     "input": [
      "mh.request(ppms,peaks,**mhi.kwargs)"
     ],
     "language": "python",
     "metadata": {},
     "outputs": [
      {
       "metadata": {},
       "output_type": "pyout",
       "prompt_number": 56,
       "text": [
        "[None,\n",
        " None,\n",
        " None,\n",
        " None,\n",
        " None,\n",
        " 'HMDB00172',\n",
        " 'HMDB00011',\n",
        " 'HMDB00518',\n",
        " 'HMDB00510',\n",
        " 'HMDB00510',\n",
        " 'HMDB00518',\n",
        " 'HMDB00510',\n",
        " 'HMDB01547',\n",
        " 'HMDB01547',\n",
        " 'HMDB00101',\n",
        " 'HMDB00208',\n",
        " 'HMDB00192',\n",
        " 'HMDB00162',\n",
        " 'HMDB00014',\n",
        " 'HMDB00122',\n",
        " 'HMDB01401',\n",
        " 'HMDB00272',\n",
        " 'HMDB00902',\n",
        " 'HMDB00085',\n",
        " None,\n",
        " None,\n",
        " 'HMDB00215',\n",
        " None,\n",
        " 'HMDB00393',\n",
        " None,\n",
        " None,\n",
        " None,\n",
        " None,\n",
        " None,\n",
        " 'HMDB01392',\n",
        " 'HMDB00617',\n",
        " 'HMDB00303',\n",
        " 'HMDB01406',\n",
        " None,\n",
        " None,\n",
        " 'HMDB00232',\n",
        " 'HMDB00902',\n",
        " None,\n",
        " None,\n",
        " None,\n",
        " None,\n",
        " None,\n",
        " None,\n",
        " None,\n",
        " None]"
       ]
      }
     ],
     "prompt_number": 56
    }
   ],
   "metadata": {}
  }
 ]
}