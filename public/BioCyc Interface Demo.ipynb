{
 "metadata": {
  "description": "A short demo of the interface for my new BioCyc (cached) web API. Objects can be retrieved from the database, then explored by accessing attributes. List-attributes auto-fetch new objects and can be explored in turn. Backend-caching reduces the load on the BioCyc servers. Comments, suggestions and improvements welcome.",
  "name": "",
  "signature": "sha256:cad3f6baed321080d6bee0558afaf4af0a53eecd4931b39f2fecc61e797fce69"
 },
 "nbformat": 3,
 "nbformat_minor": 0,
 "worksheets": [
  {
   "cells": [
    {
     "cell_type": "code",
     "collapsed": false,
     "input": [
      "import os\n",
      "from biocyc import biocyc\n",
      "os.environ['http_proxy'] = ''\n",
      "os.environ['https_proxy'] = ''\n",
      "biocyc.set_detail('full')\n",
      "biocyc.set_organism('meta')"
     ],
     "language": "python",
     "metadata": {},
     "outputs": [],
     "prompt_number": 2
    },
    {
     "cell_type": "code",
     "collapsed": false,
     "input": [
      "o=biocyc.get('L-LACTATE')\n",
      "o"
     ],
     "language": "python",
     "metadata": {},
     "outputs": [
      {
       "html": [
        "<table><tr><th>Name</th><td>(<i>S</i>)-lactate</td></tr><tr><th>BioCyc ID</th><td><a href=\"http://www.biocyc.org/META/NEW-IMAGE?object=L-LACTATE\">L-LACTATE</a></td></tr><tr><th>Synonyms</th><td>L-lactate, L(+)-lactate</td></tr><tr><th>INCHI</th><td>InChI=1S/C3H6O3/c1-2(4)3(5)6/h2,4H,1H3,(H,5,6)/p-1/t2-/m0/s1</td></tr><tr><th>Molecular weight</th><td>89.071</td></tr><tr><th>Gibbs 0</th><td>-72.55646</td></tr><tr><th>Parents</th><td>L-2-hydroxyacids, Lactate</td></tr><tr><th>Reactions</th><td>TRANS-RXN-104, RXN-12165, RXN-12096, LACTALDDEHYDROG-RXN, RXN0-5269, D-LACTATE-2-SULFATASE-RXN, TRANS-RXN-104, L-LACTDEHYDROGFMN-RXN, LACTATE-MALATE-TRANSHYDROGENASE-RXN, LACTATE-2-MONOOXYGENASE-RXN, L-LACTATE-DEHYDROGENASE-CYTOCHROME-RXN, L-LACTATE-DEHYDROGENASE-RXN, RXN-9067, RXN-8076, PROPIONLACT-RXN, LACTATE-RACEMASE-RXN, LACTATE-ALDOLASE-RXN</td></tr><tr><th>Database links</th><td>CAS: <a href=\"http://www.commonchemistry.org/ChemicalDetail.aspx?ref=79-33-4\">79-33-4</a>, PUBCHEM: <a href=\"http://pubchem.ncbi.nlm.nih.gov/summary/summary.cgi?cid=5460161\">5460161</a>, LIGAND-CPD: <a href=\"http://www.genome.ad.jp/dbget-bin/www_bget?C00186\">C00186</a>, CHEMSPIDER: <a href=\"http://www.chemspider.com/4573803\">4573803</a>, CHEBI: <a href=\"http://www.ebi.ac.uk/chebi/searchId.do?chebiId=CHEBI:16651\">16651</a>, BIGG: 34179</td></tr></table>"
       ],
       "metadata": {},
       "output_type": "pyout",
       "prompt_number": 2,
       "text": [
        "(<i>S</i>)-lactate"
       ]
      }
     ],
     "prompt_number": 2
    },
    {
     "cell_type": "code",
     "collapsed": false,
     "input": [],
     "language": "python",
     "metadata": {},
     "outputs": [],
     "prompt_number": 2
    },
    {
     "cell_type": "code",
     "collapsed": false,
     "input": [
      "ps = [r.pathways for r in o.reactions]\n",
      "p = [p for sl in ps for p in sl]\n",
      "p"
     ],
     "language": "python",
     "metadata": {},
     "outputs": [
      {
       "metadata": {},
       "output_type": "pyout",
       "prompt_number": 6,
       "text": [
        "[L-rhamnose degradation II,\n",
        " L-rhamnose degradation III,\n",
        " L-rhamnose degradation II,\n",
        " methylglyoxal degradation V,\n",
        " lactate biosynthesis (archaea),\n",
        " L-lactaldehyde degradation (aerobic),\n",
        " L-lactaldehyde degradation (aerobic),\n",
        " methylglyoxal degradation V,\n",
        " pyruvate fermentation to lactate,\n",
        " glucose and xylose degradation,\n",
        " Bifidobacterium shunt,\n",
        " heterolactic fermentation,\n",
        " factor 420 biosynthesis]"
       ]
      }
     ],
     "prompt_number": 6
    },
    {
     "cell_type": "code",
     "collapsed": false,
     "input": [
      "p[0]"
     ],
     "language": "python",
     "metadata": {},
     "outputs": [
      {
       "html": [
        "<table><tr><th>Name</th><td>L-rhamnose degradation II</td></tr><tr><th>BioCyc ID</th><td><a href=\"http://www.biocyc.org/META/NEW-IMAGE?object=PWY-6713\">PWY-6713</a></td></tr><tr><th>Synonyms</th><td>aldolase pathway</td></tr><tr><th>Parents</th><td>L-rhamnose-Degradation</td></tr><tr><th>Species</th><td>TAX-5580, ORG-6176, TAX-95486, TAX-284592, TAX-322104</td></tr><tr><th>Taxonomic range</th><td>TAX-2, TAX-4751</td></tr></table>"
       ],
       "metadata": {},
       "output_type": "pyout",
       "prompt_number": 7,
       "text": [
        "L-rhamnose degradation II"
       ]
      }
     ],
     "prompt_number": 7
    },
    {
     "cell_type": "code",
     "collapsed": false,
     "input": [
      "o.super_pathways[0]"
     ],
     "language": "python",
     "metadata": {},
     "outputs": [
      {
       "html": [
        "<table><tr><th>Name</th><td>hexitol fermentation to lactate, formate, ethanol and acetate</td></tr><tr><th>BioCyc ID</th><td><a href=\"http://www.biocyc.org/META/NEW-IMAGE?object=P461-PWY\">P461-PWY</a></td></tr><tr><th>Synonyms</th><td>sorbitol metabolism, sorbitol fermentation, mannitol fermentation, sugar alcohol fermentation</td></tr><tr><th>Parents</th><td>Fermentation, Super-Pathways, SUGAR-ALCOHOLS-DEG</td></tr><tr><th>Species</th><td>TAX-1335, TAX-1302, TAX-28037, TAX-1309, TAX-1304, TAX-1305</td></tr><tr><th>Taxonomic range</th><td>TAX-1239</td></tr></table>"
       ],
       "metadata": {},
       "output_type": "pyout",
       "prompt_number": 6,
       "text": [
        "hexitol fermentation to lactate, formate, ethanol and acetate"
       ]
      }
     ],
     "prompt_number": 6
    },
    {
     "cell_type": "code",
     "collapsed": false,
     "input": [
      "o.super_pathways[0].taxonomic_range[0]"
     ],
     "language": "python",
     "metadata": {},
     "outputs": [
      {
       "html": [
        "<table><tr><th>Name</th><td>Firmicutes</td></tr><tr><th>BioCyc ID</th><td><a href=\"http://www.biocyc.org/META/NEW-IMAGE?object=TAX-1239\">TAX-1239</a></td></tr><tr><th>Synonyms</th><td>low GC gram-positives<blast31968>, low GC Gram+, low G+C Gram-positive bacteria, firmicutes <blast1239>, firmicutes, clostridial firmicutes, Low G+C firmicutes, Gram-positive bacteria, Gram positive bacteria, Firmacutes, Clostridium group firmicutes, Bacillus/Clostridium group</td></tr><tr><th>Parents</th><td>TAX-2</td></tr><tr><th>Database links</th><td>NCBI-TAXONOMY-DB: <a href=\"http://www.ncbi.nlm.nih.gov/Taxonomy/Browser/wwwtax.cgi?mode=Info&id=1239\">1239</a></td></tr></table>"
       ],
       "metadata": {},
       "output_type": "pyout",
       "prompt_number": 7,
       "text": [
        "Firmicutes"
       ]
      }
     ],
     "prompt_number": 7
    }
   ],
   "metadata": {}
  }
 ]
}