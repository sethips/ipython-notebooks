{
 "metadata": {
  "description": "A short demo of the interface for my new BioCyc (cached) web API. Objects can be retrieved from the database, then explored by accessing attributes. List-attributes auto-fetch new objects and can be explored in turn. Backend-caching reduces the load on the BioCyc servers. Comments, suggestions and improvements welcome.",
  "name": "",
  "signature": "sha256:0b219275b74a80e46c6c3884b93019a1449cc97bb936fd3c832d3f5b8c6b2417"
 },
 "nbformat": 3,
 "nbformat_minor": 0,
 "worksheets": [
  {
   "cells": [
    {
     "cell_type": "markdown",
     "metadata": {},
     "source": [
      "# BioCyc Web API for Python\n",
      "\n",
      "This notebook is a quick demo of a BioCyc Web API I've released for Python. While incomplete the API offers access to most basic attributes for metabolites, proteins, reactions, pathways and organisms in the database. The Python interface comes with an disk-based caching mechanism under `/.biocyc` that greatly reduces the delay (and load) for BioCyc servers.\n",
      "\n",
      "The interface supports multiple + configurable caches, so it's possible to share the cache across multiple machines.\n",
      "\n",
      "Read on for more info."
     ]
    },
    {
     "cell_type": "markdown",
     "metadata": {},
     "source": [
      "## Basic initialisation\n",
      "\n",
      "Import the `biocyc` object from the `biocyc` module. This object provides the base access to the database for the initial get. You can set the organism using `set_organism` and one of the standard BioCyc database identifiers. Note that this only affects the organism-database used for direct requests on the biocyc object. Sub-requests on existing objects will use the same database as that object (otherwise things would be very confusing indeed)."
     ]
    },
    {
     "cell_type": "code",
     "collapsed": false,
     "input": [
      "import os\n",
      "from biocyc import biocyc\n",
      "os.environ['http_proxy'] = ''\n",
      "os.environ['https_proxy'] = ''\n",
      "biocyc.set_organism('meta')"
     ],
     "language": "python",
     "metadata": {},
     "outputs": [],
     "prompt_number": 1
    },
    {
     "cell_type": "markdown",
     "metadata": {},
     "source": [
      "## Making a request\n",
      "\n",
      "To get an database object (of any type) simply using the unique BioCyc identifiers for it. Here we request `L-Lactate`. Note that if you do this from within an IP[y] Notebook you get a nice table output of all associated attributes for an object. This includes direct links to the BioCyc database and other database annotations."
     ]
    },
    {
     "cell_type": "code",
     "collapsed": false,
     "input": [
      "o=biocyc.get('L-LACTATE')\n",
      "o"
     ],
     "language": "python",
     "metadata": {},
     "outputs": [
      {
       "html": [
        "<table><tr><th>Name</th><td>(<i>S</i>)-lactate</td></tr><tr><th>BioCyc ID</th><td><a href=\"http://www.biocyc.org/META/NEW-IMAGE?object=L-LACTATE\">L-LACTATE</a></td></tr><tr><th>Org ID</th><td>META</td></tr><tr><th>Synonyms</th><td>L-lactate, L(+)-lactate</td></tr><tr><th>INCHI</th><td>InChI=1S/C3H6O3/c1-2(4)3(5)6/h2,4H,1H3,(H,5,6)/p-1/t2-/m0/s1</td></tr><tr><th>Molecular weight</th><td>89.071</td></tr><tr><th>Gibbs 0</th><td>-72.55646</td></tr><tr><th>Parents</th><td>L-2-hydroxyacids, Lactate</td></tr><tr><th>Reactions</th><td>TRANS-RXN-104, RXN-12165, RXN-12096, LACTALDDEHYDROG-RXN, RXN0-5269, D-LACTATE-2-SULFATASE-RXN, TRANS-RXN-104, L-LACTDEHYDROGFMN-RXN, LACTATE-MALATE-TRANSHYDROGENASE-RXN, LACTATE-2-MONOOXYGENASE-RXN, L-LACTATE-DEHYDROGENASE-CYTOCHROME-RXN, L-LACTATE-DEHYDROGENASE-RXN, RXN-9067, RXN-8076, PROPIONLACT-RXN, LACTATE-RACEMASE-RXN, LACTATE-ALDOLASE-RXN</td></tr><tr><th>Database links</th><td>CAS: <a href=\"http://www.commonchemistry.org/ChemicalDetail.aspx?ref=79-33-4\">79-33-4</a>, PUBCHEM: <a href=\"http://pubchem.ncbi.nlm.nih.gov/summary/summary.cgi?cid=5460161\">5460161</a>, LIGAND-CPD: <a href=\"http://www.genome.ad.jp/dbget-bin/www_bget?C00186\">C00186</a>, CHEMSPIDER: <a href=\"http://www.chemspider.com/4573803\">4573803</a>, CHEBI: <a href=\"http://www.ebi.ac.uk/chebi/searchId.do?chebiId=CHEBI:16651\">16651</a>, BIGG: 34179</td></tr></table>"
       ],
       "metadata": {},
       "output_type": "pyout",
       "prompt_number": 2,
       "text": [
        "(<i>S</i>)-lactate"
       ]
      }
     ],
     "prompt_number": 2
    },
    {
     "cell_type": "markdown",
     "metadata": {},
     "source": [
      "## Exploring further\n",
      "\n",
      "Now we have an object we can perform sub-queries by accessing fields. If you access the `o.reactions` field you will trigger a dynamic request for all entities in that list. Connections to the BioCyc server are throttled at 1/second, so this may take a little while on long lists. However, retrieved data is cached under `~/.biocyc` so subsequent requests will be much quicker. By default the cache is set to expire objects after ~6 months, and the cache folder can be shared between multiple machines.\n",
      "\n",
      "_Note: If you just want access to the identifiers, you can use the `o._reactions` field to access these without triggering a request_"
     ]
    },
    {
     "cell_type": "code",
     "collapsed": false,
     "input": [
      "r = o.reactions\n",
      "r[0]"
     ],
     "language": "python",
     "metadata": {},
     "outputs": [
      {
       "html": [
        "<table><tr><th>BioCyc ID</th><td><a href=\"http://www.biocyc.org/META/NEW-IMAGE?object=TRANS-RXN-104\">TRANS-RXN-104</a></td></tr><tr><th>Org ID</th><td>META</td></tr><tr><th>Parents</th><td>Small-Molecule-Reactions, TR-12</td></tr></table>"
       ],
       "metadata": {},
       "output_type": "pyout",
       "prompt_number": 6,
       "text": [
        "TRANS-RXN-104"
       ]
      }
     ],
     "prompt_number": 6
    },
    {
     "cell_type": "code",
     "collapsed": false,
     "input": [
      "r[1]"
     ],
     "language": "python",
     "metadata": {},
     "outputs": [
      {
       "html": [
        "<table><tr><th>Name</th><td>NADP<sup>+</sup> L-lactaldehyde dehydrogenase</td></tr><tr><th>BioCyc ID</th><td><a href=\"http://www.biocyc.org/META/NEW-IMAGE?object=RXN-12165\">RXN-12165</a></td></tr><tr><th>Org ID</th><td>META</td></tr><tr><th>Parents</th><td>Chemical-Reactions, Small-Molecule-Reactions</td></tr><tr><th>Pathways</th><td>PWY-6713</td></tr></table>"
       ],
       "metadata": {},
       "output_type": "pyout",
       "prompt_number": 7,
       "text": [
        "NADP<sup>+</sup> L-lactaldehyde dehydrogenase"
       ]
      }
     ],
     "prompt_number": 7
    },
    {
     "cell_type": "markdown",
     "metadata": {},
     "source": [
      "You can access sub-entities and manipulate objects using standard Python list processing."
     ]
    },
    {
     "cell_type": "code",
     "collapsed": false,
     "input": [
      "ps = [r.pathways for r in o.reactions]\n",
      "p = [p for sl in ps for p in sl]\n",
      "p"
     ],
     "language": "python",
     "metadata": {},
     "outputs": [
      {
       "metadata": {},
       "output_type": "pyout",
       "prompt_number": 8,
       "text": [
        "[L-rhamnose degradation II,\n",
        " L-rhamnose degradation III,\n",
        " L-rhamnose degradation II,\n",
        " methylglyoxal degradation V,\n",
        " lactate biosynthesis (archaea),\n",
        " L-lactaldehyde degradation (aerobic),\n",
        " L-lactaldehyde degradation (aerobic),\n",
        " methylglyoxal degradation V,\n",
        " pyruvate fermentation to lactate,\n",
        " glucose and xylose degradation,\n",
        " Bifidobacterium shunt,\n",
        " heterolactic fermentation,\n",
        " factor 420 biosynthesis]"
       ]
      }
     ],
     "prompt_number": 8
    },
    {
     "cell_type": "code",
     "collapsed": false,
     "input": [
      "p[0]"
     ],
     "language": "python",
     "metadata": {},
     "outputs": [
      {
       "html": [
        "<table><tr><th>Name</th><td>L-rhamnose degradation II</td></tr><tr><th>BioCyc ID</th><td><a href=\"http://www.biocyc.org/META/NEW-IMAGE?object=PWY-6713\">PWY-6713</a></td></tr><tr><th>Org ID</th><td>META</td></tr><tr><th>Synonyms</th><td>aldolase pathway</td></tr><tr><th>Parents</th><td>L-rhamnose-Degradation</td></tr><tr><th>Species</th><td>TAX-5580, ORG-6176, TAX-95486, TAX-284592, TAX-322104</td></tr><tr><th>Taxonomic range</th><td>TAX-2, TAX-4751</td></tr></table>"
       ],
       "metadata": {},
       "output_type": "pyout",
       "prompt_number": 12,
       "text": [
        "L-rhamnose degradation II"
       ]
      }
     ],
     "prompt_number": 12
    },
    {
     "cell_type": "markdown",
     "metadata": {},
     "source": [
      "## Finally \n",
      "\n",
      "That's all for now! Hopefully this shows how Python (and IPython notebook) access to the BioCyc Web API may be useful. Support for additional attributes, API calls etc. is planned for the future. If you have specific requests, get in touch!"
     ]
    }
   ],
   "metadata": {}
  }
 ]
}